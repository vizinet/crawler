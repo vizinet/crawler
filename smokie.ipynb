{
 "cells": [
  {
   "cell_type": "markdown",
   "metadata": {},
   "source": [
    "# vizinet <> seattle wildfire\n",
    "\n",
    "Pure exploration notebook to attempt inference of air quality on smokey images in Seattle, WA.\n",
    "\n",
    "<!-- <img src='https://komonews.com/resources/media2/original/full/1600/center/80/eed6afbd-fef6-470e-a1ee-3b51e46063f1-smoky_Seattle_pm_02.jpg' style='height: 500px' /> -->"
   ]
  },
  {
   "cell_type": "code",
   "execution_count": 34,
   "metadata": {},
   "outputs": [],
   "source": [
    "import datetime as dt\n",
    "import json\n",
    "\n",
    "import requests\n",
    "import pandas as pd"
   ]
  },
  {
   "cell_type": "markdown",
   "metadata": {},
   "source": [
    "### almost willfully cryptic government api shit\n",
    "\n",
    "Originally tried the daily aggregates of air quality (PM<sub>2.5</sub>) [here](https://www.epa.gov/outdoor-air-quality-data/download-daily-data).  Later went to use the API [here](https://aqs.epa.gov/aqsweb/documents/data_api.html) for the sample-level data; much more granular and useful for our purposes.  Get the list of air quality metrics [here](https://aqs.epa.gov/data/api/list/parametersByClass?email=test@aqs.api&key=test&pc=CRITERIA) and pick your favorite monitor [here](https://epa.maps.arcgis.com/apps/webappviewer/index.html?id=5f239fd3e72f424f98ef3d5def547eb5&extent=-146.2334,13.1913,-46.3896,56.5319)."
   ]
  },
  {
   "cell_type": "code",
   "execution_count": 57,
   "metadata": {},
   "outputs": [
    {
     "ename": "TypeError",
     "evalue": "fetch_site_pm25() got an unexpected keyword argument 'site'",
     "output_type": "error",
     "traceback": [
      "\u001b[0;31m---------------------------------------------------------------------------\u001b[0m",
      "\u001b[0;31mTypeError\u001b[0m                                 Traceback (most recent call last)",
      "\u001b[0;32m<ipython-input-57-cd3f08c54869>\u001b[0m in \u001b[0;36m<module>\u001b[0;34m\u001b[0m\n\u001b[1;32m     65\u001b[0m \u001b[0mstart\u001b[0m \u001b[0;34m=\u001b[0m \u001b[0mdatetime\u001b[0m\u001b[0;34m.\u001b[0m\u001b[0mstrptime\u001b[0m\u001b[0;34m(\u001b[0m\u001b[0;34m'20200501'\u001b[0m\u001b[0;34m,\u001b[0m \u001b[0;34m'%Y%m%d'\u001b[0m\u001b[0;34m)\u001b[0m\u001b[0;34m\u001b[0m\u001b[0;34m\u001b[0m\u001b[0m\n\u001b[1;32m     66\u001b[0m \u001b[0;34m\u001b[0m\u001b[0m\n\u001b[0;32m---> 67\u001b[0;31m \u001b[0mdf\u001b[0m \u001b[0;34m=\u001b[0m \u001b[0mfetch_site_pm25\u001b[0m\u001b[0;34m(\u001b[0m\u001b[0mstart\u001b[0m\u001b[0;34m,\u001b[0m \u001b[0msite\u001b[0m\u001b[0;34m=\u001b[0m\u001b[0;34m''\u001b[0m\u001b[0;34m)\u001b[0m\u001b[0;34m\u001b[0m\u001b[0;34m\u001b[0m\u001b[0m\n\u001b[0m\u001b[1;32m     68\u001b[0m \u001b[0mdf\u001b[0m \u001b[0;34m=\u001b[0m \u001b[0mfetch_region_pm25\u001b[0m\u001b[0;34m(\u001b[0m\u001b[0mstart\u001b[0m\u001b[0;34m)\u001b[0m\u001b[0;34m\u001b[0m\u001b[0;34m\u001b[0m\u001b[0m\n\u001b[1;32m     69\u001b[0m \u001b[0mdf\u001b[0m\u001b[0;34m.\u001b[0m\u001b[0mhead\u001b[0m\u001b[0;34m(\u001b[0m\u001b[0;34m)\u001b[0m\u001b[0;34m\u001b[0m\u001b[0;34m\u001b[0m\u001b[0m\n",
      "\u001b[0;31mTypeError\u001b[0m: fetch_site_pm25() got an unexpected keyword argument 'site'"
     ]
    }
   ],
   "source": [
    "#url = 'https://aqs.epa.gov/data/api/sampleData/bySite?email=test@aqs.api&key=test&param=44201&bdate=20170618&edate=20170618&cbdate=20180101&cedate=20181231&state=37&county=183&site=0014'\n",
    "\n",
    "\n",
    "base = 'https://aqs.epa.gov/data/api'\n",
    "    \n",
    "    \n",
    "def fetch_region_pm25(start: object, end: object = dt.datetime.now()) -> None:\n",
    "    site_sample_url = f'{base}/sampleData/byBox'\n",
    "    dt_fmt = '%Y%m%d'\n",
    "    # Latitude-longitude bounding box generated with (https://boundingbox.klokantech.com/)\n",
    "    req_params = {\n",
    "        'email': 'test@aqs.api',\n",
    "        'key': 'test',\n",
    "        'bdate': start.strftime(dt_fmt),\n",
    "        'edate': end.strftime(dt_fmt),\n",
    "        'param': '88101',   # PM2.5\n",
    "        'minlon': '-122.424649', \n",
    "        'maxlon': '-122.233283', \n",
    "        'minlat': '47.532073',\n",
    "        'maxlat': '47.698851'\n",
    "#         'minlat': '-122.424649', \n",
    "#         'maxlat': '-122.233283', \n",
    "#         'minlon': '47.532073',\n",
    "#         'maxlon': '47.698851'\n",
    "    }\n",
    "    opt_params = {\n",
    "    #     'cbdate': '',\n",
    "    #     'cedate': ''\n",
    "    }\n",
    "    params = {**req_params, **opt_params}\n",
    "    print('params', params)\n",
    "    r = requests.get(site_sample_url, params=params)\n",
    "    print('r.url', r.url)\n",
    "    assert 200 <= r.status_code < 400\n",
    "    data = json.loads(r.content.decode('utf-8'))['Data']\n",
    "    return pd.DataFrame(data).sort_values('date_local', ascending=False)\n",
    "\n",
    "\n",
    "def fetch_site_pm25(start: object, end: object = dt.datetime.now()) -> pd.DataFrame:\n",
    "    site_sample_url = f'{base}/sampleData/bySite'\n",
    "    dt_fmt = '%Y%m%d'\n",
    "    req_params = {\n",
    "        'email': 'test@aqs.api',\n",
    "        'key': 'test',\n",
    "        'bdate': start.strftime(dt_fmt),\n",
    "        'edate': end.strftime(dt_fmt),\n",
    "        'param': '88101',  # PM2.5\n",
    "        'state': '53',     # Washington\n",
    "        'county': '033',   # King County\n",
    "        'site': '0030',    # Hand picked monitor (see above)\n",
    "    }\n",
    "    opt_params = {\n",
    "    #     'cbdate': '',\n",
    "    #     'cedate': ''\n",
    "    }\n",
    "    params = {**req_params, **opt_params}\n",
    "    print('params', params)\n",
    "    r = requests.get(site_sample_url, params=params)\n",
    "    print('hitting >', r.url)\n",
    "    assert 200 <= r.status_code < 400\n",
    "    data = json.loads(r.content.decode('utf-8'))['Data']\n",
    "    return pd.DataFrame(data).sort_values('date_local', ascending=False)\n",
    "\n",
    "# January 1st\n",
    "start = datetime.strptime('20200501', '%Y%m%d')\n",
    "\n",
    "df = fetch_site_pm25(start, site='')\n",
    "df = fetch_region_pm25(start)\n",
    "df.head()\n",
    "\n",
    "# These APIs seem to be cutting off PM2.5 measures on May 31st...  I need realtime data, people.\n",
    "# These endpoints can be used for historical data, I suppose.\n",
    "\n",
    "# The data from the curated datasets also fucking sucked:  https://aqs.epa.gov/aqsweb/airdata/download_files.html#Raw.\n",
    "\n",
    "# df['units_of_measure']"
   ]
  },
  {
   "cell_type": "code",
   "execution_count": 60,
   "metadata": {},
   "outputs": [
    {
     "name": "stderr",
     "output_type": "stream",
     "text": [
      "/Users/lkgwbr/Library/Python/3.8/lib/python/site-packages/IPython/core/interactiveshell.py:3145: DtypeWarning: Columns (17) have mixed types.Specify dtype option on import or set low_memory=False.\n",
      "  has_raised = await self.run_ast_nodes(code_ast.body, cell_name,\n"
     ]
    }
   ],
   "source": [
    "df = pd.read_csv('hourly_88101_2020.csv')"
   ]
  },
  {
   "cell_type": "code",
   "execution_count": 68,
   "metadata": {},
   "outputs": [
    {
     "data": {
      "text/plain": [
       "{'2020-01-01',\n",
       " '2020-01-02',\n",
       " '2020-01-03',\n",
       " '2020-01-04',\n",
       " '2020-01-05',\n",
       " '2020-01-06',\n",
       " '2020-01-07',\n",
       " '2020-01-08',\n",
       " '2020-01-09',\n",
       " '2020-01-10',\n",
       " '2020-01-11',\n",
       " '2020-01-12',\n",
       " '2020-01-13',\n",
       " '2020-01-14',\n",
       " '2020-01-15',\n",
       " '2020-01-16',\n",
       " '2020-01-17',\n",
       " '2020-01-18',\n",
       " '2020-01-19',\n",
       " '2020-01-20',\n",
       " '2020-01-21',\n",
       " '2020-01-22',\n",
       " '2020-01-23',\n",
       " '2020-01-24',\n",
       " '2020-01-25',\n",
       " '2020-01-26',\n",
       " '2020-01-27',\n",
       " '2020-01-28',\n",
       " '2020-01-29',\n",
       " '2020-01-30',\n",
       " '2020-01-31'}"
      ]
     },
     "execution_count": 68,
     "metadata": {},
     "output_type": "execute_result"
    }
   ],
   "source": [
    "ndf = df[df['State Name'] == 'Washington']\n",
    "ndf = ndf[ndf['County Name'] == 'King']\n",
    "\n",
    "set(ndf['Date Local'].tolist())\n",
    "# ndf.sort_values('Date Local', ascending=True)\n",
    "# ndf.head()"
   ]
  },
  {
   "cell_type": "markdown",
   "metadata": {},
   "source": [
    "## enter waqi\n",
    "\n",
    "Thanks to [this](https://github.com/zzkt/aqi/blob/endless/aqi.el) dude."
   ]
  },
  {
   "cell_type": "code",
   "execution_count": 89,
   "metadata": {},
   "outputs": [
    {
     "name": "stdout",
     "output_type": "stream",
     "text": [
      "hitting > https://api.waqi.info/feed/seattle/?token=8751963228f3f1ab921449379065621df052fc70\n"
     ]
    },
    {
     "data": {
      "text/plain": [
       "{'h': 81, 'no2': 20.8, 'p': 1014, 'pm25': 199, 't': 15.5, 'w': 0.2, 'wg': 2}"
      ]
     },
     "execution_count": 89,
     "metadata": {},
     "output_type": "execute_result"
    }
   ],
   "source": [
    "def fetch_site_pm25(city: str = 'seattle') -> pd.DataFrame:\n",
    "    # Get your own token from https://aqicn.org/data-platform/token/#/ (it's instantaneous)\n",
    "    token = open('waqi.token').read()\n",
    "    base = 'https://api.waqi.info'\n",
    "    r = requests.get(f'{base}/feed/{city}/', params={'token': token})\n",
    "    print('hitting >', r.url)\n",
    "    assert 200 <= r.status_code < 400\n",
    "    data = json.loads(r.content.decode('utf-8'))['data']\n",
    "    time = dt.datetime.fromisoformat(data['time']['iso'])\n",
    "    measures = {k: v['v'] for k, v in data['iaqi'].items()}\n",
    "    return measures, time\n",
    "\n",
    "measures, time = fetch_site_pm25()\n",
    "measures"
   ]
  },
  {
   "cell_type": "markdown",
   "metadata": {},
   "source": [
    "## now let's crawl some images in realtime"
   ]
  },
  {
   "cell_type": "code",
   "execution_count": null,
   "metadata": {},
   "outputs": [],
   "source": []
  }
 ],
 "metadata": {
  "kernelspec": {
   "display_name": "Python 3",
   "language": "python",
   "name": "python3"
  },
  "language_info": {
   "codemirror_mode": {
    "name": "ipython",
    "version": 3
   },
   "file_extension": ".py",
   "mimetype": "text/x-python",
   "name": "python",
   "nbconvert_exporter": "python",
   "pygments_lexer": "ipython3",
   "version": "3.8.2"
  }
 },
 "nbformat": 4,
 "nbformat_minor": 4
}
